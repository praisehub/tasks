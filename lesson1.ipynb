{
  "nbformat": 4,
  "nbformat_minor": 0,
  "metadata": {
    "colab": {
      "provenance": []
    },
    "kernelspec": {
      "name": "python3",
      "display_name": "Python 3"
    },
    "language_info": {
      "name": "python"
    }
  },
  "cells": [
    {
      "cell_type": "code",
      "source": [
        "from google.colab import drive\n",
        "drive.mount('/content/drive')"
      ],
      "metadata": {
        "colab": {
          "base_uri": "https://localhost:8080/"
        },
        "id": "OgsKbN4pNmK8",
        "outputId": "0f2c8c19-a7e2-47c0-dc1f-a8878d4193fe"
      },
      "execution_count": 1,
      "outputs": [
        {
          "output_type": "stream",
          "name": "stdout",
          "text": [
            "Mounted at /content/drive\n"
          ]
        }
      ]
    },
    {
      "cell_type": "code",
      "source": [
        "#1Use else block to display a message “Done” \n",
        "# after successful execution of for loop.\n",
        "\n",
        "for chores in ['completed','all', 'chores']:\n",
        "    print(chores)\n",
        "\n",
        "chores=('completed all chores')\n",
        "\n",
        "if chores == ('completed all chores'):\n",
        " print(\"Done\")\n",
        "else:\n",
        " print(\"Not Done\")"
      ],
      "metadata": {
        "colab": {
          "base_uri": "https://localhost:8080/"
        },
        "id": "dITPI1nsOCBG",
        "outputId": "2a0cd958-c22d-46c9-9c45-f8fe22c7e366"
      },
      "execution_count": 2,
      "outputs": [
        {
          "output_type": "stream",
          "name": "stdout",
          "text": [
            "completed\n",
            "all\n",
            "chores\n",
            "Done\n"
          ]
        }
      ]
    },
    {
      "cell_type": "code",
      "execution_count": 3,
      "metadata": {
        "colab": {
          "base_uri": "https://localhost:8080/"
        },
        "id": "6MYjnX2vNgbk",
        "outputId": "ae4d47b1-3653-4cbf-a87f-c97493fddd4f"
      },
      "outputs": [
        {
          "output_type": "stream",
          "name": "stdout",
          "text": [
            "The prime numbers in this range are:  [2, 3, 5, 7, 11, 13, 17, 19]\n"
          ]
        }
      ],
      "source": [
        "#2 Python program to print all\n",
        "# prime number in an interval\n",
        "\n",
        "def prime(a, b):\n",
        "\tprime_list = []\n",
        "\tfor i in range(a, b):\n",
        "\t\tif i == 0 or i == 1:\n",
        "\t\t\tcontinue\n",
        "\t\telse:\n",
        "\t\t\tfor j in range(2, int(i/2)+1):\n",
        "\t\t\t\tif i % j == 0:\n",
        "\t\t\t\t\tbreak\n",
        "\t\t\telse:\n",
        "\t\t\t\tprime_list.append(i)\n",
        "\treturn prime_list\n",
        "\n",
        "# Driver program\n",
        "starting_range = 1\n",
        "ending_range = 20\n",
        "lst = prime(starting_range, ending_range)\n",
        "if len(lst) == 0:\n",
        "\tprint(\"There are no prime numbers in this range\")\n",
        "else:\n",
        "\tprint(\"The prime numbers in this range are: \", lst)\n"
      ]
    },
    {
      "cell_type": "code",
      "source": [
        "#3 Use a loop to display elements from a given list present at odd index positions.\n",
        "list = (10,15,20,25,30,35);     \n",
        "     \n",
        "print(\"Elements from a given list present at odd index positions: \");      \n",
        "    \n",
        "for i in range(0, len(list), 2):    \n",
        "    print(list[i]);     "
      ],
      "metadata": {
        "id": "VayRvQOOObhQ",
        "colab": {
          "base_uri": "https://localhost:8080/"
        },
        "outputId": "ded32f58-0579-495b-a9b2-fb952889f225"
      },
      "execution_count": 4,
      "outputs": [
        {
          "output_type": "stream",
          "name": "stdout",
          "text": [
            "Elements from a given list present at odd index positions: \n",
            "10\n",
            "20\n",
            "30\n"
          ]
        }
      ]
    },
    {
      "cell_type": "code",
      "source": [
        "#4 Calculate the cube of all numbers from 1 to a given number\n",
        "num = (1,10)\n",
        "input_number = 10\n",
        "for i in range(1, input_number + 1):\n",
        "    print(\"Current Number is :\", i, \" and the cube is\", (i * i * i))\n"
      ],
      "metadata": {
        "id": "2a5UQZBkg7u8",
        "colab": {
          "base_uri": "https://localhost:8080/"
        },
        "outputId": "33b6c797-6b1e-41d6-e223-68a6f8c23bdc"
      },
      "execution_count": 6,
      "outputs": [
        {
          "output_type": "stream",
          "name": "stdout",
          "text": [
            "Current Number is : 1  and the cube is 1\n",
            "Current Number is : 2  and the cube is 8\n",
            "Current Number is : 3  and the cube is 27\n",
            "Current Number is : 4  and the cube is 64\n",
            "Current Number is : 5  and the cube is 125\n",
            "Current Number is : 6  and the cube is 216\n",
            "Current Number is : 7  and the cube is 343\n",
            "Current Number is : 8  and the cube is 512\n",
            "Current Number is : 9  and the cube is 729\n",
            "Current Number is : 10  and the cube is 1000\n"
          ]
        }
      ]
    }
  ]
}